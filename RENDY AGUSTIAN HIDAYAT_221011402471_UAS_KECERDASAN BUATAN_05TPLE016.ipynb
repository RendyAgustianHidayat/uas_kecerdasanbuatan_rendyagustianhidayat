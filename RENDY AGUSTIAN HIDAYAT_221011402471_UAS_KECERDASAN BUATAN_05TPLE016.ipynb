{
 "cells": [
  {
   "cell_type": "code",
   "execution_count": 1,
   "metadata": {},
   "outputs": [
    {
     "name": "stdout",
     "output_type": "stream",
     "text": [
      "Predicted stress level: 76.74\n"
     ]
    }
   ],
   "source": [
    "# Implementasi fuzzy untuk sistem prediksi tingkat stres mahasiswa (metode mamdani) \n",
    "import numpy as np\n",
    "import skfuzzy as fuzz\n",
    "from skfuzzy import control as ctrl\n",
    "\n",
    "# 1. Define fuzzy variables\n",
    "jumlah_tugas = ctrl.Antecedent(np.arange(0, 101, 1), 'jumlah_tugas')\n",
    "waktu_belajar = ctrl.Antecedent(np.arange(0, 25, 1), 'waktu_belajar')\n",
    "waktu_tidur = ctrl.Antecedent(np.arange(0, 13, 1), 'waktu_tidur')\n",
    "stres = ctrl.Consequent(np.arange(0, 101, 1), 'stres')\n",
    "\n",
    "# 2. Define membership functions\n",
    "# Membership functions for jumlah_tugas\n",
    "jumlah_tugas['rendah'] = fuzz.trimf(jumlah_tugas.universe, [0, 0, 50])\n",
    "jumlah_tugas['sedang'] = fuzz.trimf(jumlah_tugas.universe, [30, 50, 70])\n",
    "jumlah_tugas['tinggi'] = fuzz.trimf(jumlah_tugas.universe, [50, 100, 100])\n",
    "\n",
    "# Membership functions for waktu_belajar\n",
    "waktu_belajar['singkat'] = fuzz.trimf(waktu_belajar.universe, [0, 0, 10])\n",
    "waktu_belajar['sedang'] = fuzz.trimf(waktu_belajar.universe, [5, 10, 15])\n",
    "waktu_belajar['lama'] = fuzz.trimf(waktu_belajar.universe, [10, 24, 24])\n",
    "\n",
    "# Membership functions for waktu_tidur\n",
    "waktu_tidur['kurang'] = fuzz.trimf(waktu_tidur.universe, [0, 0, 6])\n",
    "waktu_tidur['cukup'] = fuzz.trimf(waktu_tidur.universe, [5, 6, 8])\n",
    "waktu_tidur['banyak'] = fuzz.trimf(waktu_tidur.universe, [7, 12, 12])\n",
    "\n",
    "# Membership functions for stres\n",
    "stres['rendah'] = fuzz.trimf(stres.universe, [0, 0, 50])\n",
    "stres['sedang'] = fuzz.trimf(stres.universe, [30, 50, 70])\n",
    "stres['tinggi'] = fuzz.trimf(stres.universe, [50, 100, 100])\n",
    "\n",
    "# 3. Define fuzzy rules\n",
    "rule1 = ctrl.Rule(jumlah_tugas['tinggi'] & waktu_belajar['lama'] & waktu_tidur['kurang'], stres['tinggi'])\n",
    "rule2 = ctrl.Rule(jumlah_tugas['rendah'] & waktu_belajar['singkat'] & waktu_tidur['banyak'], stres['rendah'])\n",
    "rule3 = ctrl.Rule(jumlah_tugas['sedang'] & waktu_belajar['sedang'] & waktu_tidur['cukup'], stres['sedang'])\n",
    "\n",
    "# Add more rules as needed\n",
    "\n",
    "# 4. Create control system\n",
    "stres_ctrl = ctrl.ControlSystem([rule1, rule2, rule3])\n",
    "stres_simulation = ctrl.ControlSystemSimulation(stres_ctrl)\n",
    "\n",
    "# 5. Input values for simulation\n",
    "stres_simulation.input['jumlah_tugas'] = 70\n",
    "stres_simulation.input['waktu_belajar'] = 12\n",
    "stres_simulation.input['waktu_tidur'] = 5\n",
    "\n",
    "# 6. Compute the output\n",
    "stres_simulation.compute()\n",
    "print(f\"Predicted stress level: {stres_simulation.output['stres']:.2f}\")\n"
   ]
  },
  {
   "cell_type": "code",
   "execution_count": null,
   "metadata": {},
   "outputs": [],
   "source": []
  }
 ],
 "metadata": {
  "kernelspec": {
   "display_name": "Python 3",
   "language": "python",
   "name": "python3"
  },
  "language_info": {
   "codemirror_mode": {
    "name": "ipython",
    "version": 3
   },
   "file_extension": ".py",
   "mimetype": "text/x-python",
   "name": "python",
   "nbconvert_exporter": "python",
   "pygments_lexer": "ipython3",
   "version": "3.12.4"
  }
 },
 "nbformat": 4,
 "nbformat_minor": 2
}
